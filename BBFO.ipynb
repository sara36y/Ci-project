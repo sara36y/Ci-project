{
 "cells": [
  {
   "cell_type": "markdown",
   "id": "1df76af0",
   "metadata": {
    "id": "1df76af0"
   },
   "source": [
    "# CI project :Natural-inspired pattern Recognition for Classification Proplem\n",
    "\n",
    "\n",
    "\n",
    "### Hyperparameter Optimization (HPO) of Machine Learning Models\n",
    "####  Tradional Algorithms versus Natural inspired Algorithms"
   ]
  },
  {
   "cell_type": "code",
   "execution_count": 9,
   "id": "02efe332",
   "metadata": {
    "id": "02efe332",
    "scrolled": true
   },
   "outputs": [],
   "source": [
    "import numpy as np\n",
    "import pandas as pd\n",
    "import matplotlib.pyplot as plt\n",
    "import seaborn as sns\n",
    "from sklearn.model_selection import train_test_split ,cross_val_score\n",
    "from sklearn.ensemble import RandomForestClassifier\n",
    "from sklearn.metrics import confusion_matrix ,classification_report,accuracy_score\n",
    "from sklearn import datasets\n",
    "from sklearn.svm import SVC ,SVR\n",
    "from sklearn.neighbors import KNeighborsClassifier,KNeighborsRegressor\n"
   ]
  },
  {
   "cell_type": "markdown",
   "id": "e95a4adb",
   "metadata": {
    "id": "e95a4adb"
   },
   "source": [
    "## Load MNIST dataset\n",
    "The MNIST database  is a large database of handwritten digits that is commonly used for training various image processing systems. The MNIST database has a training set of 60,000 examples, and a test set of 10,000 examples."
   ]
  },
  {
   "cell_type": "code",
   "execution_count": 10,
   "id": "c319a9bb",
   "metadata": {
    "id": "c319a9bb"
   },
   "outputs": [],
   "source": [
    "dataset = datasets.load_digits()\n",
    "X = dataset.data\n",
    "y = dataset.target"
   ]
  },
  {
   "cell_type": "code",
   "execution_count": 11,
   "id": "42c18f65",
   "metadata": {
    "id": "42c18f65",
    "outputId": "3b639f3d-fca8-472e-db9d-3a86198fc035"
   },
   "outputs": [
    {
     "data": {
      "text/plain": [
       "{'data': array([[ 0.,  0.,  5., ...,  0.,  0.,  0.],\n",
       "        [ 0.,  0.,  0., ..., 10.,  0.,  0.],\n",
       "        [ 0.,  0.,  0., ..., 16.,  9.,  0.],\n",
       "        ...,\n",
       "        [ 0.,  0.,  1., ...,  6.,  0.,  0.],\n",
       "        [ 0.,  0.,  2., ..., 12.,  0.,  0.],\n",
       "        [ 0.,  0., 10., ..., 12.,  1.,  0.]]),\n",
       " 'target': array([0, 1, 2, ..., 8, 9, 8]),\n",
       " 'frame': None,\n",
       " 'feature_names': ['pixel_0_0',\n",
       "  'pixel_0_1',\n",
       "  'pixel_0_2',\n",
       "  'pixel_0_3',\n",
       "  'pixel_0_4',\n",
       "  'pixel_0_5',\n",
       "  'pixel_0_6',\n",
       "  'pixel_0_7',\n",
       "  'pixel_1_0',\n",
       "  'pixel_1_1',\n",
       "  'pixel_1_2',\n",
       "  'pixel_1_3',\n",
       "  'pixel_1_4',\n",
       "  'pixel_1_5',\n",
       "  'pixel_1_6',\n",
       "  'pixel_1_7',\n",
       "  'pixel_2_0',\n",
       "  'pixel_2_1',\n",
       "  'pixel_2_2',\n",
       "  'pixel_2_3',\n",
       "  'pixel_2_4',\n",
       "  'pixel_2_5',\n",
       "  'pixel_2_6',\n",
       "  'pixel_2_7',\n",
       "  'pixel_3_0',\n",
       "  'pixel_3_1',\n",
       "  'pixel_3_2',\n",
       "  'pixel_3_3',\n",
       "  'pixel_3_4',\n",
       "  'pixel_3_5',\n",
       "  'pixel_3_6',\n",
       "  'pixel_3_7',\n",
       "  'pixel_4_0',\n",
       "  'pixel_4_1',\n",
       "  'pixel_4_2',\n",
       "  'pixel_4_3',\n",
       "  'pixel_4_4',\n",
       "  'pixel_4_5',\n",
       "  'pixel_4_6',\n",
       "  'pixel_4_7',\n",
       "  'pixel_5_0',\n",
       "  'pixel_5_1',\n",
       "  'pixel_5_2',\n",
       "  'pixel_5_3',\n",
       "  'pixel_5_4',\n",
       "  'pixel_5_5',\n",
       "  'pixel_5_6',\n",
       "  'pixel_5_7',\n",
       "  'pixel_6_0',\n",
       "  'pixel_6_1',\n",
       "  'pixel_6_2',\n",
       "  'pixel_6_3',\n",
       "  'pixel_6_4',\n",
       "  'pixel_6_5',\n",
       "  'pixel_6_6',\n",
       "  'pixel_6_7',\n",
       "  'pixel_7_0',\n",
       "  'pixel_7_1',\n",
       "  'pixel_7_2',\n",
       "  'pixel_7_3',\n",
       "  'pixel_7_4',\n",
       "  'pixel_7_5',\n",
       "  'pixel_7_6',\n",
       "  'pixel_7_7'],\n",
       " 'target_names': array([0, 1, 2, 3, 4, 5, 6, 7, 8, 9]),\n",
       " 'images': array([[[ 0.,  0.,  5., ...,  1.,  0.,  0.],\n",
       "         [ 0.,  0., 13., ..., 15.,  5.,  0.],\n",
       "         [ 0.,  3., 15., ..., 11.,  8.,  0.],\n",
       "         ...,\n",
       "         [ 0.,  4., 11., ..., 12.,  7.,  0.],\n",
       "         [ 0.,  2., 14., ..., 12.,  0.,  0.],\n",
       "         [ 0.,  0.,  6., ...,  0.,  0.,  0.]],\n",
       " \n",
       "        [[ 0.,  0.,  0., ...,  5.,  0.,  0.],\n",
       "         [ 0.,  0.,  0., ...,  9.,  0.,  0.],\n",
       "         [ 0.,  0.,  3., ...,  6.,  0.,  0.],\n",
       "         ...,\n",
       "         [ 0.,  0.,  1., ...,  6.,  0.,  0.],\n",
       "         [ 0.,  0.,  1., ...,  6.,  0.,  0.],\n",
       "         [ 0.,  0.,  0., ..., 10.,  0.,  0.]],\n",
       " \n",
       "        [[ 0.,  0.,  0., ..., 12.,  0.,  0.],\n",
       "         [ 0.,  0.,  3., ..., 14.,  0.,  0.],\n",
       "         [ 0.,  0.,  8., ..., 16.,  0.,  0.],\n",
       "         ...,\n",
       "         [ 0.,  9., 16., ...,  0.,  0.,  0.],\n",
       "         [ 0.,  3., 13., ..., 11.,  5.,  0.],\n",
       "         [ 0.,  0.,  0., ..., 16.,  9.,  0.]],\n",
       " \n",
       "        ...,\n",
       " \n",
       "        [[ 0.,  0.,  1., ...,  1.,  0.,  0.],\n",
       "         [ 0.,  0., 13., ...,  2.,  1.,  0.],\n",
       "         [ 0.,  0., 16., ..., 16.,  5.,  0.],\n",
       "         ...,\n",
       "         [ 0.,  0., 16., ..., 15.,  0.,  0.],\n",
       "         [ 0.,  0., 15., ..., 16.,  0.,  0.],\n",
       "         [ 0.,  0.,  2., ...,  6.,  0.,  0.]],\n",
       " \n",
       "        [[ 0.,  0.,  2., ...,  0.,  0.,  0.],\n",
       "         [ 0.,  0., 14., ..., 15.,  1.,  0.],\n",
       "         [ 0.,  4., 16., ..., 16.,  7.,  0.],\n",
       "         ...,\n",
       "         [ 0.,  0.,  0., ..., 16.,  2.,  0.],\n",
       "         [ 0.,  0.,  4., ..., 16.,  2.,  0.],\n",
       "         [ 0.,  0.,  5., ..., 12.,  0.,  0.]],\n",
       " \n",
       "        [[ 0.,  0., 10., ...,  1.,  0.,  0.],\n",
       "         [ 0.,  2., 16., ...,  1.,  0.,  0.],\n",
       "         [ 0.,  0., 15., ..., 15.,  0.,  0.],\n",
       "         ...,\n",
       "         [ 0.,  4., 16., ..., 16.,  6.,  0.],\n",
       "         [ 0.,  8., 16., ..., 16.,  8.,  0.],\n",
       "         [ 0.,  1.,  8., ..., 12.,  1.,  0.]]]),\n",
       " 'DESCR': \".. _digits_dataset:\\n\\nOptical recognition of handwritten digits dataset\\n--------------------------------------------------\\n\\n**Data Set Characteristics:**\\n\\n:Number of Instances: 1797\\n:Number of Attributes: 64\\n:Attribute Information: 8x8 image of integer pixels in the range 0..16.\\n:Missing Attribute Values: None\\n:Creator: E. Alpaydin (alpaydin '@' boun.edu.tr)\\n:Date: July; 1998\\n\\nThis is a copy of the test set of the UCI ML hand-written digits datasets\\nhttps://archive.ics.uci.edu/ml/datasets/Optical+Recognition+of+Handwritten+Digits\\n\\nThe data set contains images of hand-written digits: 10 classes where\\neach class refers to a digit.\\n\\nPreprocessing programs made available by NIST were used to extract\\nnormalized bitmaps of handwritten digits from a preprinted form. From a\\ntotal of 43 people, 30 contributed to the training set and different 13\\nto the test set. 32x32 bitmaps are divided into nonoverlapping blocks of\\n4x4 and the number of on pixels are counted in each block. This generates\\nan input matrix of 8x8 where each element is an integer in the range\\n0..16. This reduces dimensionality and gives invariance to small\\ndistortions.\\n\\nFor info on NIST preprocessing routines, see M. D. Garris, J. L. Blue, G.\\nT. Candela, D. L. Dimmick, J. Geist, P. J. Grother, S. A. Janet, and C.\\nL. Wilson, NIST Form-Based Handprint Recognition System, NISTIR 5469,\\n1994.\\n\\n.. dropdown:: References\\n\\n  - C. Kaynak (1995) Methods of Combining Multiple Classifiers and Their\\n    Applications to Handwritten Digit Recognition, MSc Thesis, Institute of\\n    Graduate Studies in Science and Engineering, Bogazici University.\\n  - E. Alpaydin, C. Kaynak (1998) Cascading Classifiers, Kybernetika.\\n  - Ken Tang and Ponnuthurai N. Suganthan and Xi Yao and A. Kai Qin.\\n    Linear dimensionalityreduction using relevance weighted LDA. School of\\n    Electrical and Electronic Engineering Nanyang Technological University.\\n    2005.\\n  - Claudio Gentile. A New Approximate Maximal Margin Classification\\n    Algorithm. NIPS. 2000.\\n\"}"
      ]
     },
     "execution_count": 11,
     "metadata": {},
     "output_type": "execute_result"
    }
   ],
   "source": [
    "dataset"
   ]
  },
  {
   "cell_type": "markdown",
   "id": "f577890e",
   "metadata": {
    "id": "f577890e"
   },
   "source": [
    "## Baseline Machine Learning Models: Classifiers with Default Hyperparameters"
   ]
  },
  {
   "cell_type": "markdown",
   "id": "fc67456a",
   "metadata": {
    "id": "fc67456a"
   },
   "source": [
    "### Using 3-Fold Cross-Validation"
   ]
  },
  {
   "cell_type": "code",
   "execution_count": 23,
   "id": "215740bf",
   "metadata": {
    "id": "215740bf",
    "outputId": "1569bb84-b660-4bf3-f832-e53670241851"
   },
   "outputs": [
    {
     "name": "stdout",
     "output_type": "stream",
     "text": [
      "Accuracy:0.9699499165275459\n"
     ]
    }
   ],
   "source": [
    "#SVM\n",
    "clf = SVC()\n",
    "clf.fit(X,y)\n",
    "scores = cross_val_score(clf, X ,y, cv=3 , scoring ='accuracy')\n",
    "print(\"Accuracy:\"+ str(scores.mean()))\n"
   ]
  },
  {
   "cell_type": "markdown",
   "id": "db671496",
   "metadata": {
    "id": "db671496"
   },
   "source": [
    "## Tradition Parameter tunning Methods  Algorithm 1: Grid Search\n",
    "Search all the given hyper-parameter configurations\n",
    "\n",
    "**Advantages:**\n",
    "* Simple implementation.  \n",
    "\n",
    "**Disadvantages:**  \n",
    "* Time-consuming,\n",
    "* Only efficient with categorical HPs."
   ]
  },
  {
   "cell_type": "code",
   "execution_count": 28,
   "id": "377d49f3",
   "metadata": {
    "id": "377d49f3",
    "outputId": "edfbd1a2-58f8-46ed-deb2-eda5190b65eb"
   },
   "outputs": [
    {
     "name": "stdout",
     "output_type": "stream",
     "text": [
      "{'C': 10, 'kernel': 'rbf'}\n",
      "Accuracy:0.9738452977184195\n"
     ]
    }
   ],
   "source": [
    "# SVM optimized by GridSearchCv\n",
    "from sklearn.model_selection import GridSearchCV\n",
    "#Define hyperparameter Configuration space\n",
    "svm_params = {\n",
    "    'C':[1, 10, 100],\n",
    "    'kernel' :['linear','poly','rbf','sigmoid']\n",
    "}\n",
    "clf = SVC(gamma='scale')\n",
    "grid =GridSearchCV(clf,svm_params ,cv=3 ,scoring = 'accuracy')\n",
    "grid.fit(X,y)\n",
    "print(grid.best_params_)\n",
    "print(\"Accuracy:\"+str(grid.best_score_))\n",
    "svc_accuracy_bygridsearch = grid.best_score_\n",
    "svc_params_bygridsearch = grid.best_params_"
   ]
  },
  {
   "cell_type": "markdown",
   "id": "e22b8577",
   "metadata": {
    "id": "e22b8577"
   },
   "source": [
    "##  Algorithm 2: Random Search\n",
    "Randomly search hyper-parameter combinations in the search space\n",
    "\n",
    "**Advantages:**\n",
    "* More efficient than GS.\n",
    "* Enable parallelization.\n",
    "\n",
    "**Disadvantages:**  \n",
    "* Not consider previous results.\n",
    "* Not efficient with conditional HPs."
   ]
  },
  {
   "cell_type": "code",
   "execution_count": 29,
   "id": "c9567514",
   "metadata": {
    "id": "c9567514",
    "outputId": "3b58b277-2f31-4078-8451-4f6ee359a476"
   },
   "outputs": [
    {
     "name": "stdout",
     "output_type": "stream",
     "text": [
      "{'C': 18.117919163156486, 'kernel': 'rbf'}\n",
      "Accuracy:0.9738452977184195\n"
     ]
    }
   ],
   "source": [
    "#SVM\n",
    "from scipy import stats\n",
    "from scipy.stats import randint as sp_randint\n",
    "from sklearn.model_selection import RandomizedSearchCV\n",
    "rf_params = {\n",
    "    'C': stats.uniform(0,50),\n",
    "    \"kernel\":['linear','poly','rbf','sigmoid']\n",
    "}\n",
    "n_iter_search=20\n",
    "clf = SVC(gamma='scale')\n",
    "Random = RandomizedSearchCV(clf, param_distributions=rf_params,n_iter=n_iter_search,cv=3,scoring='accuracy')\n",
    "Random.fit(X, y)\n",
    "print(Random.best_params_)\n",
    "print(\"Accuracy:\"+ str(Random.best_score_))\n",
    "svc_accuracy_byrandomsearch = Random.best_score_\n",
    "svc_params_byrandomsearch = Random.best_params_"
   ]
  },
  {
   "cell_type": "markdown",
   "id": "39c04a99-ce92-4f8c-a881-fc7d926da121",
   "metadata": {},
   "source": [
    "## Define Binary BFO helpers\n",
    "Define helper functions for Binary Bacterial Foraging Optimization (BBFO), including binary chromosome decoding, population initialization, fitness evaluation, and bit-flipping (mutation).\n"
   ]
  },
  {
   "cell_type": "code",
   "execution_count": 30,
   "id": "018b05d3",
   "metadata": {
    "id": "018b05d3"
   },
   "outputs": [],
   "source": [
    "def decode_chromosome(chromosome):\n",
    "    # First 10 bits for C\n",
    "    c_bits = chromosome[:10]\n",
    "    c_value = int(\"\".join(map(str, c_bits)), 2)\n",
    "    c_real = 0.1 + (1000 - 0.1) * (c_value / (2**10 - 1))\n",
    "\n",
    "    # Last 2 bits for kernel\n",
    "    kernel_bits = chromosome[10:]\n",
    "    kernel_idx = int(\"\".join(map(str, kernel_bits)), 2)\n",
    "    kernel_options = ['linear', 'poly', 'rbf', 'sigmoid']\n",
    "    kernel_value = kernel_options[kernel_idx % 4]  # to avoid index error\n",
    "\n",
    "    return {'C': c_real, 'kernel': kernel_value}\n"
   ]
  },
  {
   "cell_type": "markdown",
   "id": "7dc22406-06d8-4055-9c43-cf0688d39ace",
   "metadata": {},
   "source": [
    "## Run Binary BFO optimization\n",
    "Execute the BBFO algorithm to optimize SVM hyperparameters (C and kernel). Track best accuracy over generations.\n"
   ]
  },
  {
   "cell_type": "code",
   "execution_count": 31,
   "id": "08e3b38e-9d2d-4b32-81a3-57bbe57b887e",
   "metadata": {},
   "outputs": [],
   "source": [
    "import random\n",
    "\n",
    "def initialize_population(pop_size, n_bits):\n",
    "    return [np.random.randint(0, 2, n_bits).tolist() for _ in range(pop_size)]\n",
    "\n",
    "def evaluate(chromosome, X, y):\n",
    "    params = decode_chromosome(chromosome)\n",
    "    clf = SVC(C=params['C'], kernel=params['kernel'], gamma='scale')\n",
    "    scores = cross_val_score(clf, X, y, cv=3, scoring='accuracy')\n",
    "    return scores.mean()\n",
    "\n",
    "def flip_bit(chromosome, prob=0.1):\n",
    "    return [(1 - bit if random.random() < prob else bit) for bit in chromosome]\n",
    "\n",
    "def binary_bfo(X, y, n_gen=20, pop_size=10):\n",
    "    n_bits = 12\n",
    "    population = initialize_population(pop_size, n_bits)\n",
    "    fitness_over_gens = []\n",
    "\n",
    "    best_solution = None\n",
    "    best_fitness = 0\n",
    "\n",
    "    for gen in range(n_gen):\n",
    "        new_population = []\n",
    "        fitnesses = []\n",
    "\n",
    "        for bacterium in population:\n",
    "            mutated = flip_bit(bacterium, prob=0.1)\n",
    "            mutated_fitness = evaluate(mutated, X, y)\n",
    "            original_fitness = evaluate(bacterium, X, y)\n",
    "\n",
    "            if mutated_fitness > original_fitness:\n",
    "                new_population.append(mutated)\n",
    "                fitnesses.append(mutated_fitness)\n",
    "            else:\n",
    "                new_population.append(bacterium)\n",
    "                fitnesses.append(original_fitness)\n",
    "\n",
    "        population = new_population\n",
    "        gen_best = max(fitnesses)\n",
    "        if gen_best > best_fitness:\n",
    "            best_fitness = gen_best\n",
    "            best_solution = population[fitnesses.index(gen_best)]\n",
    "\n",
    "        fitness_over_gens.append(gen_best)\n",
    "        print(f\"Generation {gen+1} - Best Accuracy: {gen_best:.4f}\")\n",
    "\n",
    "    return best_solution, best_fitness, fitness_over_gens\n"
   ]
  },
  {
   "cell_type": "markdown",
   "id": "a9f79dcb-4b6d-4cce-aacb-8703292f08e9",
   "metadata": {},
   "source": [
    "## Decode best BBFO result \n",
    "Extract the best SVM parameters from the BBFO result and print the best accuracy.\n"
   ]
  },
  {
   "cell_type": "code",
   "execution_count": 34,
   "id": "068748bf-86bb-49af-905f-ce895a91e051",
   "metadata": {},
   "outputs": [
    {
     "name": "stdout",
     "output_type": "stream",
     "text": [
      "Generation 1 - Best Accuracy: 0.9738\n",
      "Generation 2 - Best Accuracy: 0.9738\n",
      "Generation 3 - Best Accuracy: 0.9738\n",
      "Generation 4 - Best Accuracy: 0.9738\n",
      "Generation 5 - Best Accuracy: 0.9738\n",
      "Generation 6 - Best Accuracy: 0.9738\n",
      "Generation 7 - Best Accuracy: 0.9738\n",
      "Generation 8 - Best Accuracy: 0.9738\n",
      "Generation 9 - Best Accuracy: 0.9738\n",
      "Generation 10 - Best Accuracy: 0.9738\n",
      "Generation 11 - Best Accuracy: 0.9738\n",
      "Generation 12 - Best Accuracy: 0.9738\n",
      "Generation 13 - Best Accuracy: 0.9738\n",
      "Generation 14 - Best Accuracy: 0.9738\n",
      "Generation 15 - Best Accuracy: 0.9738\n",
      "Generation 16 - Best Accuracy: 0.9738\n",
      "Generation 17 - Best Accuracy: 0.9738\n",
      "Generation 18 - Best Accuracy: 0.9738\n",
      "Generation 19 - Best Accuracy: 0.9738\n",
      "Generation 20 - Best Accuracy: 0.9738\n",
      "Best Params (BBFO): {'C': 525.9516129032259, 'kernel': 'rbf'}\n",
      "Best Accuracy (BBFO): 0.9738452977184195\n"
     ]
    }
   ],
   "source": [
    "best_solution, svc_accuracy_bybbfo, fitness_curve = binary_bfo(X, y)\n",
    "svc_params_bybbfo = decode_chromosome(best_solution)\n",
    "\n",
    "print(\"Best Params (BBFO):\", svc_params_bybbfo)\n",
    "print(\"Best Accuracy (BBFO):\", svc_accuracy_bybbfo)"
   ]
  },
  {
   "cell_type": "markdown",
   "id": "5dd54330-d0b5-43c7-bc5a-9d9870fb5c82",
   "metadata": {},
   "source": [
    "## Accuracy comparison plot\n",
    "Compare the accuracies of GridSearchCV, RandomizedSearchCV, and Binary BFO using a bar chart.\n"
   ]
  },
  {
   "cell_type": "code",
   "execution_count": 35,
   "id": "25e9f62d-88ba-4238-93e3-305cc1847e35",
   "metadata": {},
   "outputs": [
    {
     "data": {
      "image/png": "[encoded data removed]",
      "text/plain": [
       "<Figure size 640x480 with 1 Axes>"
      ]
     },
     "metadata": {},
     "output_type": "display_data"
    }
   ],
   "source": [
    "plt.plot(fitness_curve)\n",
    "plt.xlabel(\"Generation\")\n",
    "plt.ylabel(\"Best Accuracy\")\n",
    "plt.title(\"Binary BFO Fitness Over Generations\")\n",
    "plt.grid()\n",
    "plt.show()\n"
   ]
  },
  {
   "cell_type": "markdown",
   "id": "64b526b2-6f83-48de-b725-99ae49c7bf72",
   "metadata": {},
   "source": [
    "## Print best parameters and accuracies\n",
    " Display a side-by-side comparison of the best parameters and accuracies obtained from each optimization method.\n"
   ]
  },
  {
   "cell_type": "code",
   "execution_count": 36,
   "id": "bef74643-0a65-46f0-b608-122bff4d9bed",
   "metadata": {},
   "outputs": [
    {
     "name": "stdout",
     "output_type": "stream",
     "text": [
      "=== Accuracy Comparison ===\n",
      "GridSearchCV Accuracy:     0.9738 | Params: {'C': 10, 'kernel': 'rbf'}\n",
      "RandomSearchCV Accuracy:   0.9738 | Params: {'C': 18.117919163156486, 'kernel': 'rbf'}\n",
      "Binary BFO Accuracy:       0.9738 | Params: {'C': 525.9516129032259, 'kernel': 'rbf'}\n"
     ]
    },
    {
     "data": {
      "image/png": "[encoded data removed]",
      "text/plain": [
       "<Figure size 800x500 with 1 Axes>"
      ]
     },
     "metadata": {},
     "output_type": "display_data"
    }
   ],
   "source": [
    "print(\"=== Accuracy Comparison ===\")\n",
    "print(f\"GridSearchCV Accuracy:     {svc_accuracy_bygridsearch:.4f} | Params: {svc_params_bygridsearch}\")\n",
    "print(f\"RandomSearchCV Accuracy:   {svc_accuracy_byrandomsearch:.4f} | Params: {svc_params_byrandomsearch}\")\n",
    "print(f\"Binary BFO Accuracy:       {svc_accuracy_bybbfo:.4f} | Params: {svc_params_bybbfo}\")\n",
    "\n",
    "\n",
    "import matplotlib.pyplot as plt\n",
    "\n",
    "results = {\n",
    "    'GridSearchCV': svc_accuracy_bygridsearch,\n",
    "    'RandomSearchCV': svc_accuracy_byrandomsearch,\n",
    "    'Binary BFO': svc_accuracy_bybbfo\n",
    "}\n",
    "\n",
    "labels = list(results.keys())\n",
    "accuracies = list(results.values())\n",
    "\n",
    "plt.figure(figsize=(8, 5))\n",
    "plt.bar(labels, accuracies, color='skyblue')\n",
    "plt.ylabel('Accuracy')\n",
    "plt.ylim(min(accuracies) - 0.001, max(accuracies) + 0.001)\n",
    "plt.title('Accuracy Comparison: GridSearchCV vs RandomSearchCV vs Binary BFO')\n",
    "plt.grid(axis='y')\n",
    "plt.show()\n"
   ]
  }
 ],
 "metadata": {
  "colab": {
   "provenance": []
  },
  "kernelspec": {
   "display_name": "Python 3 (ipykernel)",
   "language": "python",
   "name": "python3"
  },
  "language_info": {
   "codemirror_mode": {
    "name": "ipython",
    "version": 3
   },
   "file_extension": ".py",
   "mimetype": "text/x-python",
   "name": "python",
   "nbconvert_exporter": "python",
   "pygments_lexer": "ipython3",
   "version": "3.9.10"
  }
 },
 "nbformat": 4,
 "nbformat_minor": 5
}
